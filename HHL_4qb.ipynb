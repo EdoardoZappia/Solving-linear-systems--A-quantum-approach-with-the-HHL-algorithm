{
 "cells": [
  {
   "cell_type": "code",
   "execution_count": 4,
   "id": "ffb9d69a-cc17-41bb-aadb-d91dcb3b8480",
   "metadata": {
    "tags": []
   },
   "outputs": [],
   "source": [
    "# Importing standard Qiskit libraries\n",
    "\n",
    "# Some modules may have been deprecated, check the latest uploading of Qiskit\n",
    "from qiskit import QuantumCircuit, transpile, Aer, execute, IBMQ\n",
    "from qiskit import QuantumRegister, ClassicalRegister\n",
    "from qiskit.tools.jupyter import *\n",
    "from qiskit.visualization import *\n",
    "from qiskit.visualization.circuit import *\n",
    "from ibm_quantum_widgets import *\n",
    "from qiskit.quantum_info import Statevector\n",
    "import numpy\n",
    "from qiskit.tools.monitor import job_monitor\n",
    "from qiskit.providers.aer import QasmSimulator, StatevectorSimulator\n",
    "\n",
    "IBMQ.save_account(\"Your ibm token\", overwrite=True) #Enter your token\n",
    "IBMQ.load_account()\n",
    "# qiskit-ibmq-provider has been deprecated.\n",
    "# Please see the Migration Guides in https://ibm.biz/provider_migration_guide for more detail.\n",
    "from qiskit_ibm_runtime import QiskitRuntimeService, Sampler, Estimator, Session, Options\n",
    "\n",
    "# Loading your IBM Quantum account(s)\n",
    "service = QiskitRuntimeService(channel=\"ibm_quantum\")\n",
    "\n",
    "pi=numpy.pi\n",
    "\n",
    "# Invoke a primitive. For more details see https://qiskit.org/documentation/partners/qiskit_ibm_runtime/tutorials.html\n",
    "# result = Sampler(\"ibmq_qasm_simulator\").run(circuits).result()\n",
    "\n"
   ]
  },
  {
   "cell_type": "code",
   "execution_count": 2,
   "id": "93e66ffb-f0a4-4b94-9abf-da15d4c6f7ff",
   "metadata": {
    "tags": []
   },
   "outputs": [],
   "source": [
    "# Creation of the quantum register and the classical register\n",
    "q = QuantumRegister(4,'q')\n",
    "c = ClassicalRegister(4,'c')\n",
    "\n",
    "circ = QuantumCircuit(q,c)"
   ]
  },
  {
   "cell_type": "code",
   "execution_count": null,
   "id": "61186778-37d5-4412-9608-65394cdd5391",
   "metadata": {
    "tags": []
   },
   "outputs": [],
   "source": [
    "# Vector initialization\n",
    "b=[1/numpy.sqrt(5),2/numpy.sqrt(5)]\n",
    "circ.initialize(b,3)"
   ]
  },
  {
   "cell_type": "code",
   "execution_count": null,
   "id": "964b43ee-88a7-457f-be2f-34dbecba04b8",
   "metadata": {
    "tags": []
   },
   "outputs": [],
   "source": [
    "# Construction of the algorithm\n",
    "# Start Phase estimation (part (a) fig. 3.3)\n",
    "circ.h(q[3])\n",
    "circ.cx(q[3],q[2])\n",
    "circ.cx(q[2],q[1])\n",
    "circ.h(q[3])\n",
    "circ.x(q[2])\n",
    "circ.swap(q[1],q[2]) # End Phase estimation\n",
    "circ.barrier(q)\n",
    "circ.swap(q[1],q[2]) # Reciprocal of eigenvalues\n",
    "# Controlled rotations (part (b) fig. 3.3)\n",
    "circ.cry(pi,q[1],q[0])\n",
    "circ.cry(pi/3,q[2],q[0])\n",
    "# Start uncomputation (parte (c) fig. 3.3)\n",
    "circ.swap(q[1],q[2]) # Reciprocal of reciprocal of eigenvalues\n",
    "circ.barrier(q)\n",
    "# Start Inverse Phase estimation\n",
    "circ.swap(q[1],q[2])\n",
    "circ.x(q[2])\n",
    "circ.cx(q[2],q[1])\n",
    "circ.h(q[3])\n",
    "circ.cx(q[3],q[2])\n",
    "circ.h(q[3])\n",
    "circ.barrier(q)\n",
    "#circ.h(q[1])\n",
    "#circ.h(q[2])"
   ]
  },
  {
   "cell_type": "code",
   "execution_count": 5,
   "id": "92cfca3a-1f24-47a1-92ca-0257a6aa3846",
   "metadata": {
    "tags": []
   },
   "outputs": [
    {
     "data": {
      "text/latex": [
       "$$0.5809475019 |0000\\rangle+0.1118033989 |0001\\rangle+0.5809475019 |1000\\rangle+\\frac{\\sqrt{5}}{4} |1001\\rangle$$"
      ],
      "text/plain": [
       "<IPython.core.display.Latex object>"
      ]
     },
     "execution_count": 5,
     "metadata": {},
     "output_type": "execute_result"
    }
   ],
   "source": [
    "# Set the initial state of the simulator to the ground state using from_int\n",
    "state = Statevector.from_int(0, 2**4)\n",
    "\n",
    "# Evolve the state by the quantum circuit (ideal result)\n",
    "state = state.evolve(circ)\n",
    "\n",
    "# Draw using latex\n",
    "state.draw('latex')"
   ]
  },
  {
   "cell_type": "code",
   "execution_count": null,
   "id": "006e877f-2a92-4cef-9907-5c697b51a691",
   "metadata": {
    "tags": []
   },
   "outputs": [],
   "source": [
    "# Measurement of the quantum register on the classical register\n",
    "circ.measure(q,c)"
   ]
  },
  {
   "cell_type": "code",
   "execution_count": 8,
   "id": "bc371865-0c61-42a0-826a-49a139faec5e",
   "metadata": {
    "tags": []
   },
   "outputs": [
    {
     "data": {
      "image/png": "[encoded data removed]",
      "text/plain": [
       "<PIL.Image.Image image mode=RGB size=1271x195>"
      ]
     },
     "execution_count": 8,
     "metadata": {},
     "output_type": "execute_result"
    }
   ],
   "source": [
    "# Draw the circuit with barriers\n",
    "circuit_drawer(circ, output='latex',initial_state=True, plot_barriers=True)"
   ]
  },
  {
   "cell_type": "code",
   "execution_count": null,
   "id": "8aa97876-2999-4d25-b047-4e465c4972cd",
   "metadata": {},
   "outputs": [],
   "source": [
    "transpile(circ)"
   ]
  },
  {
   "cell_type": "code",
   "execution_count": 10,
   "id": "656eb88f-2dbd-4946-af4e-b03f7ec1ae8c",
   "metadata": {
    "tags": []
   },
   "outputs": [],
   "source": [
    "# Call to the Qasm simulator and simulation\n",
    "simulator = Aer.get_backend('qasm_simulator')\n",
    "result=execute(circ,simulator,shots=10000).result()\n",
    "counts=result.get_counts(circ)"
   ]
  },
  {
   "cell_type": "markdown",
   "id": "1226806a",
   "metadata": {},
   "source": [
    "You can find all the plots in my thesis"
   ]
  },
  {
   "cell_type": "code",
   "execution_count": null,
   "id": "9d83bc1b-32c4-49d6-b6ca-2efc09ba9a5c",
   "metadata": {
    "tags": []
   },
   "outputs": [],
   "source": [
    "# Draw results\n",
    "#plot_histogram(counts,title='HHL results counts')\n",
    "plot_distribution(counts,title='HHL qasm results counts')"
   ]
  },
  {
   "cell_type": "code",
   "execution_count": null,
   "id": "0894926c-e7f1-4029-8c35-b5bf844033a9",
   "metadata": {},
   "outputs": [],
   "source": [
    "# Run the program on a real quantum computer\n",
    "provider = IBMQ.get_provider(hub = 'ibm-q')\n",
    "device = provider.get_backend('ibm_perth')\n",
    "job = execute(circ,backend = device,shots = 10000)\n",
    "print(job.job_id())\n",
    "job_monitor(job)\n",
    "device_result = job.result()\n",
    "plot_distribution(device_result.get_counts(circ),title='HHL results on a real qc')"
   ]
  },
  {
   "cell_type": "code",
   "execution_count": 2,
   "id": "bc16d755-f245-48b6-9590-b9ed29b80824",
   "metadata": {},
   "outputs": [],
   "source": [
    "# Draw results\n",
    "plot_distribution(device_result.get_counts(circ),title='HHL results on a real qc')"
   ]
  }
 ],
 "metadata": {
  "kernelspec": {
   "display_name": "Qiskit v0.45.2 (ipykernel)",
   "language": "python",
   "name": "python3"
  },
  "language_info": {
   "codemirror_mode": {
    "name": "ipython",
    "version": 3
   },
   "file_extension": ".py",
   "mimetype": "text/x-python",
   "name": "python",
   "nbconvert_exporter": "python",
   "pygments_lexer": "ipython3",
   "version": "3.9.16"
  },
  "widgets": {
   "application/vnd.jupyter.widget-state+json": {
    "state": {},
    "version_major": 2,
    "version_minor": 0
   }
  }
 },
 "nbformat": 4,
 "nbformat_minor": 5
}
